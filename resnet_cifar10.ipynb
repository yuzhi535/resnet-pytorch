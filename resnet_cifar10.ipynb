{
  "cells": [
    {
      "cell_type": "markdown",
      "metadata": {
        "colab_type": "text",
        "id": "view-in-github"
      },
      "source": [
        "<a href=\"https://colab.research.google.com/github/yuzhi535/resnet-pytorch/blob/master/resnet_cifar10.ipynb\" target=\"_parent\"><img src=\"https://colab.research.google.com/assets/colab-badge.svg\" alt=\"Open In Colab\"/></a>"
      ]
    },
    {
      "cell_type": "markdown",
      "metadata": {
        "id": "z5PFDR9M3WR9"
      },
      "source": [
        "# 模型定义"
      ]
    },
    {
      "cell_type": "code",
      "execution_count": 1,
      "metadata": {
        "colab": {
          "base_uri": "https://localhost:8080/"
        },
        "execution": {
          "iopub.execute_input": "2022-08-14T10:16:51.342964Z",
          "iopub.status.busy": "2022-08-14T10:16:51.342534Z",
          "iopub.status.idle": "2022-08-14T10:17:03.364175Z",
          "shell.execute_reply": "2022-08-14T10:17:03.362820Z",
          "shell.execute_reply.started": "2022-08-14T10:16:51.342927Z"
        },
        "id": "fej16tPt3WSA",
        "outputId": "bb895b4e-0e35-4b59-d9d8-59b3933f7224",
        "trusted": true
      },
      "outputs": [
        {
          "name": "stdout",
          "output_type": "stream",
          "text": [
            "Looking in indexes: https://pypi.org/simple, https://us-python.pkg.dev/colab-wheels/public/simple/\n",
            "Collecting timm\n",
            "  Downloading timm-0.6.7-py3-none-any.whl (509 kB)\n",
            "\u001b[K     |████████████████████████████████| 509 kB 5.1 MB/s \n",
            "\u001b[?25hCollecting torchmetrics\n",
            "  Downloading torchmetrics-0.9.3-py3-none-any.whl (419 kB)\n",
            "\u001b[K     |████████████████████████████████| 419 kB 53.9 MB/s \n",
            "\u001b[?25hRequirement already satisfied: torch>=1.4 in /usr/local/lib/python3.7/dist-packages (from timm) (1.12.1+cu113)\n",
            "Requirement already satisfied: torchvision in /usr/local/lib/python3.7/dist-packages (from timm) (0.13.1+cu113)\n",
            "Requirement already satisfied: typing-extensions in /usr/local/lib/python3.7/dist-packages (from torch>=1.4->timm) (4.1.1)\n",
            "Requirement already satisfied: numpy>=1.17.2 in /usr/local/lib/python3.7/dist-packages (from torchmetrics) (1.21.6)\n",
            "Requirement already satisfied: packaging in /usr/local/lib/python3.7/dist-packages (from torchmetrics) (21.3)\n",
            "Requirement already satisfied: pyparsing!=3.0.5,>=2.0.2 in /usr/local/lib/python3.7/dist-packages (from packaging->torchmetrics) (3.0.9)\n",
            "Requirement already satisfied: requests in /usr/local/lib/python3.7/dist-packages (from torchvision->timm) (2.23.0)\n",
            "Requirement already satisfied: pillow!=8.3.*,>=5.3.0 in /usr/local/lib/python3.7/dist-packages (from torchvision->timm) (7.1.2)\n",
            "Requirement already satisfied: idna<3,>=2.5 in /usr/local/lib/python3.7/dist-packages (from requests->torchvision->timm) (2.10)\n",
            "Requirement already satisfied: chardet<4,>=3.0.2 in /usr/local/lib/python3.7/dist-packages (from requests->torchvision->timm) (3.0.4)\n",
            "Requirement already satisfied: urllib3!=1.25.0,!=1.25.1,<1.26,>=1.21.1 in /usr/local/lib/python3.7/dist-packages (from requests->torchvision->timm) (1.24.3)\n",
            "Requirement already satisfied: certifi>=2017.4.17 in /usr/local/lib/python3.7/dist-packages (from requests->torchvision->timm) (2022.6.15)\n",
            "Installing collected packages: torchmetrics, timm\n",
            "Successfully installed timm-0.6.7 torchmetrics-0.9.3\n"
          ]
        }
      ],
      "source": [
        "%pip install timm torchmetrics"
      ]
    },
    {
      "cell_type": "code",
      "execution_count": 2,
      "metadata": {
        "colab": {
          "base_uri": "https://localhost:8080/"
        },
        "execution": {
          "iopub.execute_input": "2022-08-14T10:17:03.367560Z",
          "iopub.status.busy": "2022-08-14T10:17:03.367154Z",
          "iopub.status.idle": "2022-08-14T10:17:04.200558Z",
          "shell.execute_reply": "2022-08-14T10:17:04.199333Z",
          "shell.execute_reply.started": "2022-08-14T10:17:03.367528Z"
        },
        "id": "BbWknEf53WSC",
        "outputId": "319c3045-0a56-4f15-ad7b-83503841c26f",
        "trusted": true
      },
      "outputs": [
        {
          "name": "stdout",
          "output_type": "stream",
          "text": [
            "in_chan=16, out_chan=16\n",
            "in_chan=16, out_chan=16\n",
            "in_chan=16, out_chan=16\n",
            "in_chan=16, out_chan=32\n",
            "in_chan=32, out_chan=32\n",
            "in_chan=32, out_chan=32\n",
            "in_chan=32, out_chan=32\n",
            "in_chan=32, out_chan=64\n",
            "in_chan=64, out_chan=64\n",
            "in_chan=64, out_chan=64\n",
            "in_chan=64, out_chan=64\n",
            "in_chan=64, out_chan=64\n",
            "in_chan=64, out_chan=64\n",
            "in_chan=64, out_chan=128\n",
            "in_chan=128, out_chan=128\n",
            "in_chan=128, out_chan=128\n",
            "torch.Size([2, 10])\n"
          ]
        }
      ],
      "source": [
        "import torch\n",
        "import torch.nn as nn\n",
        "from torch.nn import functional as F\n",
        "from timm.models.layers import trunc_normal_\n",
        "\n",
        "\n",
        "# 基本块\n",
        "class Conv(nn.Module):\n",
        "    def __init__(self, in_chan, out_chan, stride) -> None:\n",
        "        super().__init__()\n",
        "        self.conv = nn.Sequential(\n",
        "            nn.Conv2d(in_chan, out_chan, 3, stride, 1, bias=False),\n",
        "            nn.BatchNorm2d(out_chan),\n",
        "            nn.ReLU(),\n",
        "        )\n",
        "        \n",
        "\n",
        "    def forward(self, x):\n",
        "        return self.conv(x)\n",
        "\n",
        "\n",
        "\n",
        "\n",
        "class BasicLayerX2(nn.Module):\n",
        "    def __init__(self, in_chan, stride, down_sample: bool) -> None:\n",
        "        super().__init__()\n",
        "        out_chan = in_chan\n",
        "        in_chan = in_chan // 2 if down_sample else in_chan\n",
        "\n",
        "        print(f'in_chan={in_chan}, out_chan={out_chan}')\n",
        "\n",
        "        self.conv = nn.Sequential(\n",
        "            Conv(in_chan, out_chan, stride),\n",
        "            Conv(out_chan, out_chan, 1),\n",
        "        )\n",
        "\n",
        "        self.shortcut = None\n",
        "        self.act = nn.ReLU()\n",
        "\n",
        "        if down_sample:\n",
        "            self.shortcut = nn.Sequential(\n",
        "                nn.Conv2d(in_chan, out_chan, 1, stride, bias=False),\n",
        "                nn.BatchNorm2d(out_chan),\n",
        "            )\n",
        "        else:\n",
        "            self.shortcut = nn.Identity()\n",
        "\n",
        "    def forward(self, x):\n",
        "        conv = self.conv(x)\n",
        "        shortcut = self.shortcut(x)\n",
        "        return self.act(conv+shortcut)\n",
        "\n",
        "\n",
        "class BasicLayerX3(nn.Module):\n",
        "    def __init__(self, in_chan, stride, down_sample: bool) -> None:\n",
        "        super().__init__()\n",
        "        out_chan = in_chan\n",
        "        in_chan = in_chan // 2 if down_sample else in_chan\n",
        "        self.conv = nn.Sequential(\n",
        "            Conv(in_chan, out_chan, stride),\n",
        "            Conv(out_chan, out_chan, stride),\n",
        "        )\n",
        "\n",
        "        self.shortcut = None\n",
        "        self.act = nn.ReLU()\n",
        "\n",
        "        if down_sample:\n",
        "            self.down_sample = nn.Sequential(\n",
        "                nn.Conv2d(in_chan, out_chan, 1, stride, bias=False),\n",
        "                nn.BatchNorm2d(out_chan),\n",
        "            )\n",
        "        else:\n",
        "            self.down_sample = nn.Identity()\n",
        "\n",
        "    def forward(self, x):\n",
        "        return self.act(self.conv(x)+self.shortcut(x))\n",
        "\n",
        "\n",
        "class Resnet(nn.Module):\n",
        "    def __init__(self, num_classes, num_layers: list, chan: list) -> None:\n",
        "        super().__init__()\n",
        "\n",
        "        # 原论文是先来个7X7卷积，然后下采样，但是考虑数据集为CIFA-10，就稍微改了一下，希望影响不会太大\n",
        "        self.first_conv = nn.Sequential(\n",
        "            nn.Conv2d(3, chan[0], 3, 1, 1, bias=False),\n",
        "            nn.BatchNorm2d(chan[0]),\n",
        "        )\n",
        "\n",
        "        self.net = nn.ModuleList()\n",
        "\n",
        "        for i in range(len(num_layers)):\n",
        "            # 除了第一层，其他层都是先下采样的block，接着普通block\n",
        "            self.net += self._make_block(num_layers[i],\n",
        "                                         chan[i], 2 if i != 0 else 1)\n",
        "\n",
        "        self.fc = nn.Linear(chan[-1], num_classes)\n",
        "\n",
        "        self.apply(self._init_weights)\n",
        "\n",
        "    def _init_weights(self, m):\n",
        "        if isinstance(m, nn.Linear):\n",
        "            trunc_normal_(m.weight, std=.02)\n",
        "            if isinstance(m, nn.Linear) and m.bias is not None:\n",
        "                nn.init.constant_(m.bias, 0)\n",
        "        elif isinstance(m, nn.LayerNorm):\n",
        "            nn.init.constant_(m.bias, 0)\n",
        "            nn.init.constant_(m.weight, 1.0)\n",
        "\n",
        "    def _make_block(self, num_layer, chan, stride):\n",
        "        layer = []\n",
        "        is_down = False\n",
        "\n",
        "        strides = [stride] + [1] * (num_layer - 1)\n",
        "\n",
        "        for stride in strides:\n",
        "            if stride == 2:\n",
        "                is_down = True\n",
        "            layer.append(BasicLayerX2(chan, stride, is_down))\n",
        "            is_down = False\n",
        "\n",
        "        return layer\n",
        "\n",
        "    def forward(self, x):\n",
        "        out = self.first_conv(x)\n",
        "        for net in self.net:\n",
        "            out = net(out)\n",
        "\n",
        "        out = F.avg_pool2d(out, out.shape[2])\n",
        "        out = out.reshape(out.shape[0], -1)\n",
        "        out = self.fc(out)\n",
        "\n",
        "        return out\n",
        "\n",
        "\n",
        "class Resnet34(nn.Module):\n",
        "    def __init__(self, num_classes) -> None:\n",
        "        super().__init__()\n",
        "\n",
        "        self.net = Resnet(num_classes, [3, 4, 6, 3], [16, 32, 64, 128])\n",
        "\n",
        "    def forward(self, x):\n",
        "        return self.net(x)\n",
        "\n",
        "\n",
        "if __name__ == '__main__':\n",
        "    x = torch.randn(2, 3, 32, 32)\n",
        "\n",
        "    net = Resnet34(10)\n",
        "    out = net(x)\n",
        "    print(out.shape)\n"
      ]
    },
    {
      "cell_type": "markdown",
      "metadata": {
        "id": "h2k1T_0I3WSH"
      },
      "source": [
        "# 数据准备"
      ]
    },
    {
      "cell_type": "code",
      "execution_count": 3,
      "metadata": {
        "execution": {
          "iopub.execute_input": "2022-08-14T10:17:04.203180Z",
          "iopub.status.busy": "2022-08-14T10:17:04.202821Z",
          "iopub.status.idle": "2022-08-14T10:17:04.216768Z",
          "shell.execute_reply": "2022-08-14T10:17:04.215648Z",
          "shell.execute_reply.started": "2022-08-14T10:17:04.203141Z"
        },
        "id": "Ryaemo1K3WSJ",
        "trusted": true
      },
      "outputs": [],
      "source": [
        "from torch.utils.data import DataLoader, Dataset\n",
        "from torchvision.datasets import CIFAR10\n",
        "# import albumentations as A\n",
        "import numpy as np\n",
        "from torchvision import transforms\n",
        "\n",
        "# from sklearn.model_selection import train_test_split\n",
        "\n",
        "\n",
        "\n",
        "\n",
        "\n",
        "def get_CIFAdataset_loader(root, batch_size, num_workers, pin_memory, valid_rate, shuffle: bool, random_seed=42, augment=True):\n",
        "    # 引入分割CIFA数据集的包，分割数据为训练集和验证集\n",
        "    from torch.utils.data.sampler import SubsetRandomSampler\n",
        "\n",
        "    # 预处理\n",
        "    train_transform = transforms.Compose([\n",
        "        transforms.Compose([transforms.RandomCrop(32, padding=4),\n",
        "                            transforms.RandomHorizontalFlip(),\n",
        "                            transforms.ToTensor(), ]) if augment else transforms.ToTensor(),\n",
        "        transforms.Normalize(\n",
        "            mean=[0.4914, 0.4822, 0.4465],\n",
        "            std=[0.2023, 0.1994, 0.2010],\n",
        "        )\n",
        "    ]\n",
        "    )\n",
        "\n",
        "    val_transform = transforms.Compose([\n",
        "        transforms.Compose([transforms.RandomCrop(32, padding=4),\n",
        "                            transforms.RandomHorizontalFlip(),\n",
        "                            transforms.ToTensor(), ]) if augment else transforms.ToTensor(),\n",
        "        transforms.Normalize(\n",
        "            mean=[0.4914, 0.4822, 0.4465],\n",
        "            std=[0.2023, 0.1994, 0.2010],\n",
        "        )\n",
        "    ]\n",
        "    )\n",
        "\n",
        "    test_transform = transforms.Compose([\n",
        "        transforms.ToTensor(),\n",
        "        transforms.Normalize(\n",
        "            mean=[0.4914, 0.4822, 0.4465],\n",
        "            std=[0.2023, 0.1994, 0.2010],\n",
        "        )\n",
        "    ]\n",
        "    )\n",
        "\n",
        "    # CIFAR-10数据集\n",
        "    train_dataset = CIFAR10(root=root, train=True,\n",
        "                            download=True, transform=train_transform)\n",
        "    val_dataset = CIFAR10(root=root, train=True,\n",
        "                          download=False, transform=val_transform)\n",
        "    test_dataset = CIFAR10(root=root, train=False,\n",
        "                           download=True, transform=test_transform)\n",
        "\n",
        "    # 分割数据集\n",
        "    num_train = len(train_dataset)\n",
        "    indices = list(range(num_train))\n",
        "    split = int(np.floor(valid_rate * num_train))\n",
        "\n",
        "    if shuffle:\n",
        "        np.random.seed(random_seed)\n",
        "        np.random.shuffle(indices)\n",
        "\n",
        "    train_idx, valid_idx = indices[split:], indices[:split]\n",
        "    train_sampler = SubsetRandomSampler(train_idx)\n",
        "    valid_sampler = SubsetRandomSampler(valid_idx)\n",
        "\n",
        "    # 生成dataloader\n",
        "    train_loader = DataLoader(\n",
        "        train_dataset, batch_size=batch_size, sampler=train_sampler,\n",
        "        num_workers=num_workers, pin_memory=pin_memory,\n",
        "    )\n",
        "    valid_loader = DataLoader(\n",
        "        val_dataset, batch_size=batch_size, sampler=valid_sampler,\n",
        "        num_workers=num_workers, pin_memory=pin_memory,\n",
        "    )\n",
        "\n",
        "    test_loader = DataLoader(\n",
        "        test_dataset, batch_size=1,\n",
        "        num_workers=num_workers, pin_memory=pin_memory,\n",
        "    )\n",
        "\n",
        "    return train_loader, valid_loader, test_loader"
      ]
    },
    {
      "cell_type": "markdown",
      "metadata": {
        "id": "kRiEc_Pv3WSL"
      },
      "source": [
        "# 训练\n",
        "1. 优化器：Adam\n",
        "2. 学习率：0.001\n",
        "3. batch size： 64\n",
        "4. 网络：resnet34\n",
        "5. 数据集：CIFA-10\n",
        "6. 训练轮数: 10\n",
        "7. accu: 0.81"
      ]
    },
    {
      "cell_type": "code",
      "execution_count": 4,
      "metadata": {
        "colab": {
          "base_uri": "https://localhost:8080/",
          "height": 868,
          "referenced_widgets": [
            "91ccb50642a24ce19e0659e6d7a10057",
            "6a9ee390378848d883fa5e377533a63f",
            "ba94a08767804291b73a01dd0025c6ad",
            "998bad496d5d4eef97b2fbbf6cdaef5e",
            "e70d0db22f9846069444dd914cdc2a73",
            "250a81ec2ccd4d4f8725722ea31f1934",
            "0851d842fadb469a9bc3d5daea97c775",
            "04ffc52231af41af82e4dff0e888e293",
            "d08abac67fa34f97bc894b84de535b12",
            "8e381b669464433e82fca628679fa7ca",
            "d28aea817cff4af3858b7e7d0caea35d"
          ]
        },
        "execution": {
          "iopub.execute_input": "2022-08-14T10:17:04.220262Z",
          "iopub.status.busy": "2022-08-14T10:17:04.219520Z"
        },
        "id": "NRsiFdV93WSM",
        "outputId": "ab0f07dd-982a-49a1-c75b-4c80fb1579e8",
        "trusted": true
      },
      "outputs": [
        {
          "name": "stdout",
          "output_type": "stream",
          "text": [
            "in_chan=16, out_chan=16\n",
            "in_chan=16, out_chan=16\n",
            "in_chan=16, out_chan=16\n",
            "in_chan=16, out_chan=32\n",
            "in_chan=32, out_chan=32\n",
            "in_chan=32, out_chan=32\n",
            "in_chan=32, out_chan=32\n",
            "in_chan=32, out_chan=64\n",
            "in_chan=64, out_chan=64\n",
            "in_chan=64, out_chan=64\n",
            "in_chan=64, out_chan=64\n",
            "in_chan=64, out_chan=64\n",
            "in_chan=64, out_chan=64\n",
            "in_chan=64, out_chan=128\n",
            "in_chan=128, out_chan=128\n",
            "in_chan=128, out_chan=128\n",
            "Downloading https://www.cs.toronto.edu/~kriz/cifar-10-python.tar.gz to ./data/CIFA/cifar-10-python.tar.gz\n"
          ]
        },
        {
          "data": {
            "application/json": {
              "ascii": false,
              "bar_format": null,
              "colour": null,
              "elapsed": 0.018323183059692383,
              "initial": 0,
              "n": 0,
              "ncols": null,
              "nrows": null,
              "postfix": null,
              "prefix": "",
              "rate": null,
              "total": 170498071,
              "unit": "it",
              "unit_divisor": 1000,
              "unit_scale": false
            },
            "application/vnd.jupyter.widget-view+json": {
              "model_id": "91ccb50642a24ce19e0659e6d7a10057",
              "version_major": 2,
              "version_minor": 0
            },
            "text/plain": [
              "  0%|          | 0/170498071 [00:00<?, ?it/s]"
            ]
          },
          "metadata": {},
          "output_type": "display_data"
        },
        {
          "name": "stdout",
          "output_type": "stream",
          "text": [
            "Extracting ./data/CIFA/cifar-10-python.tar.gz to ./data/CIFA\n",
            "Files already downloaded and verified\n"
          ]
        },
        {
          "name": "stderr",
          "output_type": "stream",
          "text": [
            "epoch: 0/10: 100%|██████████| 625/625 [00:40<00:00, 15.62it/s, loss=1.52]\n",
            "100%|██████████| 157/157 [00:04<00:00, 34.28it/s]"
          ]
        },
        {
          "name": "stdout",
          "output_type": "stream",
          "text": [
            "acc=0.5236999988555908, best acc is 0.5236999988555908\n"
          ]
        },
        {
          "name": "stderr",
          "output_type": "stream",
          "text": [
            "\n",
            "epoch: 1/10: 100%|██████████| 625/625 [00:33<00:00, 18.53it/s, loss=1.11]\n",
            "100%|██████████| 157/157 [00:04<00:00, 37.25it/s]"
          ]
        },
        {
          "name": "stdout",
          "output_type": "stream",
          "text": [
            "acc=0.6183000206947327, best acc is 0.6183000206947327\n"
          ]
        },
        {
          "name": "stderr",
          "output_type": "stream",
          "text": [
            "\n",
            "epoch: 2/10: 100%|██████████| 625/625 [00:33<00:00, 18.93it/s, loss=0.907]\n",
            "100%|██████████| 157/157 [00:04<00:00, 37.71it/s]\n"
          ]
        },
        {
          "name": "stdout",
          "output_type": "stream",
          "text": [
            "acc=0.7002999782562256, best acc is 0.7002999782562256\n"
          ]
        },
        {
          "name": "stderr",
          "output_type": "stream",
          "text": [
            "epoch: 3/10: 100%|██████████| 625/625 [00:32<00:00, 19.18it/s, loss=0.779]\n",
            "100%|██████████| 157/157 [00:05<00:00, 30.80it/s]"
          ]
        },
        {
          "name": "stdout",
          "output_type": "stream",
          "text": [
            "acc=0.7269999980926514, best acc is 0.7269999980926514\n"
          ]
        },
        {
          "name": "stderr",
          "output_type": "stream",
          "text": [
            "\n",
            "epoch: 4/10: 100%|██████████| 625/625 [00:33<00:00, 18.92it/s, loss=0.691]\n",
            "100%|██████████| 157/157 [00:04<00:00, 36.37it/s]"
          ]
        },
        {
          "name": "stdout",
          "output_type": "stream",
          "text": [
            "acc=0.7429999709129333, best acc is 0.7429999709129333\n"
          ]
        },
        {
          "name": "stderr",
          "output_type": "stream",
          "text": [
            "\n",
            "epoch: 5/10: 100%|██████████| 625/625 [00:34<00:00, 18.08it/s, loss=0.62]\n",
            "100%|██████████| 157/157 [00:04<00:00, 36.17it/s]"
          ]
        },
        {
          "name": "stdout",
          "output_type": "stream",
          "text": [
            "acc=0.7886000275611877, best acc is 0.7886000275611877\n"
          ]
        },
        {
          "name": "stderr",
          "output_type": "stream",
          "text": [
            "\n",
            "epoch: 6/10: 100%|██████████| 625/625 [00:33<00:00, 18.41it/s, loss=0.575]\n",
            "100%|██████████| 157/157 [00:04<00:00, 36.45it/s]\n"
          ]
        },
        {
          "name": "stdout",
          "output_type": "stream",
          "text": [
            "acc=0.7986000180244446, best acc is 0.7986000180244446\n"
          ]
        },
        {
          "name": "stderr",
          "output_type": "stream",
          "text": [
            "epoch: 7/10: 100%|██████████| 625/625 [00:34<00:00, 17.92it/s, loss=0.532]\n",
            "100%|██████████| 157/157 [00:04<00:00, 36.06it/s]\n"
          ]
        },
        {
          "name": "stdout",
          "output_type": "stream",
          "text": [
            "acc=0.8004999756813049, best acc is 0.8004999756813049\n"
          ]
        },
        {
          "name": "stderr",
          "output_type": "stream",
          "text": [
            "epoch: 8/10: 100%|██████████| 625/625 [00:34<00:00, 18.12it/s, loss=0.501]\n",
            "100%|██████████| 157/157 [00:04<00:00, 36.48it/s]"
          ]
        },
        {
          "name": "stdout",
          "output_type": "stream",
          "text": [
            "acc=0.8004999756813049, best acc is 0.8004999756813049\n"
          ]
        },
        {
          "name": "stderr",
          "output_type": "stream",
          "text": [
            "\n",
            "epoch: 9/10: 100%|██████████| 625/625 [00:33<00:00, 18.49it/s, loss=0.468]\n",
            "100%|██████████| 157/157 [00:04<00:00, 36.49it/s]\n"
          ]
        },
        {
          "name": "stdout",
          "output_type": "stream",
          "text": [
            "acc=0.8213000297546387, best acc is 0.8213000297546387\n"
          ]
        }
      ],
      "source": [
        "import random\n",
        "import torch\n",
        "import os\n",
        "import torchmetrics\n",
        "from argparse import ArgumentParser\n",
        "import torch.nn as nn\n",
        "from tqdm import tqdm\n",
        "import numpy as np\n",
        "from torch.utils.tensorboard import SummaryWriter\n",
        "\n",
        "\n",
        "\n",
        "def seed_everything(seed: int):\n",
        "    random.seed(seed)\n",
        "    os.environ['PYTHONHASHSEED'] = str(seed)\n",
        "    np.random.seed(seed)\n",
        "    torch.manual_seed(seed)\n",
        "    torch.cuda.manual_seed(seed)\n",
        "    torch.backends.cudnn.deterministic = True\n",
        "    torch.backends.cudnn.benchmark = True\n",
        "\n",
        "\n",
        "def arg_parser():\n",
        "    parser = ArgumentParser()\n",
        "\n",
        "    parser.add_argument('--batch-size', '-bs', type=int,\n",
        "                        default=16, required=True, help='input batch size')\n",
        "    parser.add_argument('--num-workers', '-nw',  type=int,\n",
        "                        default=4, required=True, help='number of workers')\n",
        "    # parser.add_argument('--resume', '-r', type=str,\n",
        "    #                     required=False, help='resume a train')\n",
        "    parser.add_argument('--device', type=str,\n",
        "                        help='gpu or cpu', choices=['gpu', 'cpu'], default='gpu')\n",
        "    parser.add_argument('--num-classes', '-nc', type=int,\n",
        "                        help='number of classes', required=True)\n",
        "    parser.add_argument('--lr', '-lr', type=float, default=1e-4)\n",
        "    parser.add_argument('--epochs', type=int,\n",
        "                        required=True,  help='num of epochs')\n",
        "\n",
        "    args = parser.parse_args()\n",
        "    return args\n",
        "\n",
        "\n",
        "def train_fn(net, dataloader, opt, device, criterion, writer, epoch):\n",
        "    net.train()\n",
        "    train_loss = 0\n",
        "    criterion.to(device)\n",
        "    for idx, (input, target) in dataloader:\n",
        "        input = input.to(device)\n",
        "        target = target.to(device)\n",
        "\n",
        "        opt.zero_grad()\n",
        "        pred = net(input)\n",
        "\n",
        "        loss = criterion(pred, target)\n",
        "\n",
        "        train_loss += loss.item()\n",
        "        loss.backward()\n",
        "        opt.step()\n",
        "\n",
        "        cur_loss = train_loss/(idx+1)\n",
        "\n",
        "        dataloader.set_postfix(loss=cur_loss)\n",
        "        writer.add_scalar('training loss',\n",
        "                          cur_loss,\n",
        "                          epoch*len(dataloader)+idx)\n",
        "\n",
        "\n",
        "def val_fn(net, dataloader, device, num_classes, writer, epoch: int):\n",
        "    net.eval()\n",
        "    metric = torchmetrics.Accuracy(numClass=num_classes).to(device)\n",
        "    with torch.no_grad():\n",
        "        for idx, (input, target) in dataloader:\n",
        "            input = input.to(device)\n",
        "            target = target.to(device)\n",
        "            pred = net(input)\n",
        "            acc = metric.update(pred, target)\n",
        "        acc = metric.compute()\n",
        "    writer.add_scalar('val_acc', acc, epoch*len(dataloader)+idx)\n",
        "    return acc\n",
        "\n",
        "\n",
        "def train(net, opt, epochs, batch_size, num_workers, device, num_classes, model='Resnet', scheduler=None):\n",
        "\n",
        "    train_dataloader, val_dataloader, _ = get_CIFAdataset_loader(\n",
        "        root='./data/CIFA', batch_size=batch_size, num_workers=num_workers, pin_memory=True, valid_rate=0.2, shuffle=True)\n",
        "\n",
        "    # 模型权重位置\n",
        "    model_path = 'runs'\n",
        "    if not os.path.exists(model_path):\n",
        "        os.mkdir(model_path)\n",
        "    save_path = os.path.join(model_path, model)\n",
        "\n",
        "    if not os.path.exists(save_path):\n",
        "        os.mkdir(save_path)\n",
        "\n",
        "    log_dir = os.path.join(model_path,  model, 'logs')\n",
        "    if not os.path.exists(log_dir):\n",
        "        os.mkdir(log_dir)\n",
        "\n",
        "    writer = SummaryWriter(log_dir)\n",
        "\n",
        "    net.to(device)\n",
        "\n",
        "    best = 0.0\n",
        "\n",
        "    early_stop_step = 0\n",
        "    early_stop_limit = 15\n",
        "\n",
        "    for idx in range(epochs):\n",
        "        train_loop = tqdm(enumerate(train_dataloader),\n",
        "                          total=len(train_dataloader), leave=True)\n",
        "        train_loop.set_description(f'epoch: {idx}/{epochs}')\n",
        "\n",
        "        train_fn(net=net, opt=opt,\n",
        "                 dataloader=train_loop, device=device,\n",
        "                 criterion=nn.CrossEntropyLoss(),\n",
        "                 writer=writer, epoch=idx,\n",
        "                 )\n",
        "\n",
        "        val_loop = tqdm(enumerate(val_dataloader),\n",
        "                        total=len(val_dataloader), leave=True)\n",
        "\n",
        "        score = val_fn(net=net, dataloader=val_loop,\n",
        "                       device=device, num_classes=num_classes, writer=writer, epoch=idx)\n",
        "\n",
        "        print(f'acc={score}, best acc is {max(score, best)}')\n",
        "\n",
        "        if (score > best):\n",
        "            torch.save({\n",
        "                'epoch': idx,\n",
        "                'model_state_dict': net.state_dict(),\n",
        "                'optimizer_state_dict': opt.state_dict(),\n",
        "            }, os.path.join(save_path, f'epoch={idx}-miou={score:.4f}.pth'))\n",
        "            best = score\n",
        "            early_stop_step = 0\n",
        "        else:\n",
        "            if early_stop_step > early_stop_limit:\n",
        "                print(f'因为已经有{early_stop_limit}轮没有提升，训练提前终止')\n",
        "                writer.close()\n",
        "                break\n",
        "            early_stop_step += 1\n",
        "\n",
        "        if scheduler:\n",
        "            writer.add_scalar(\n",
        "                \"lr\", scheduler.get_last_lr()[-1]\n",
        "            )\n",
        "            scheduler.step()\n",
        "    writer.close()\n",
        "\n",
        "\n",
        "if __name__ == '__main__':\n",
        "    # args = arg_parser()\n",
        "    bs = 64  # args.batch_size\n",
        "    num_workers = 2  # args.num_workers\n",
        "    device = 'cuda'  # args.device\n",
        "    num_classes = 10  # args.num_classes\n",
        "    lr = 0.001  # args.num_classes\n",
        "    epochs = 10  # args.epochs\n",
        "\n",
        "    seed_everything(42)\n",
        "    net = Resnet(num_classes, [3, 4, 6, 3], [16, 32, 64, 128])\n",
        "    opt = torch.optim.Adam(net.parameters(), lr=lr)\n",
        "\n",
        "    train(net=net, epochs=epochs, batch_size=bs, num_workers=num_workers,\n",
        "          device=device, num_classes=num_classes, opt=opt)\n"
      ]
    },
    {
      "cell_type": "markdown",
      "metadata": {
        "id": "m6EiBVkS3WSN"
      },
      "source": [
        "# 模型评估"
      ]
    },
    {
      "cell_type": "code",
      "execution_count": 5,
      "metadata": {
        "colab": {
          "base_uri": "https://localhost:8080/"
        },
        "execution": {
          "iopub.execute_input": "2022-08-14T10:02:43.613706Z",
          "iopub.status.busy": "2022-08-14T10:02:43.612655Z",
          "iopub.status.idle": "2022-08-14T10:04:12.417501Z",
          "shell.execute_reply": "2022-08-14T10:04:12.415860Z",
          "shell.execute_reply.started": "2022-08-14T10:02:43.613659Z"
        },
        "id": "_2g9N2ms3WSO",
        "outputId": "31787e1e-b33a-4d07-a607-7b5755b728ad",
        "trusted": true
      },
      "outputs": [
        {
          "name": "stdout",
          "output_type": "stream",
          "text": [
            "Files already downloaded and verified\n",
            "Files already downloaded and verified\n"
          ]
        },
        {
          "name": "stderr",
          "output_type": "stream",
          "text": [
            "100%|██████████| 10000/10000 [01:20<00:00, 123.78it/s]"
          ]
        },
        {
          "name": "stdout",
          "output_type": "stream",
          "text": [
            "tensor(0.8191, device='cuda:0')\n"
          ]
        },
        {
          "name": "stderr",
          "output_type": "stream",
          "text": [
            "\n"
          ]
        }
      ],
      "source": [
        "def test(net, dataloader, device, num_classes):\n",
        "    net.eval()\n",
        "    # metric = torchmetrics.Accuracy(numClass=num_classes).to(device)\n",
        "    correct=0.0\n",
        "    with torch.no_grad():\n",
        "        for  _, (input, target) in tqdm(enumerate(dataloader), total=len(dataloader), leave=True):\n",
        "            input = input.to(device)\n",
        "            target = target.to(device)\n",
        "            pred = net(input)\n",
        "            pred = F.softmax(pred, 1).argmax(1)\n",
        "            correct += pred.eq(target).sum()\n",
        "            # acc = metric.update(pred, target)\n",
        "    # acc = metric.compute()\n",
        "    print(correct / len(dataloader))\n",
        "\n",
        "_, _, test_dataloader = get_CIFAdataset_loader(\n",
        "        root='./data/CIFA', batch_size=128, num_workers=2, pin_memory=True, valid_rate=0.2, shuffle=True)\n",
        "\n",
        "test(net=net, device=device, num_classes=num_classes, dataloader=test_dataloader)\n"
      ]
    }
  ],
  "metadata": {
    "accelerator": "GPU",
    "colab": {
      "collapsed_sections": [],
      "include_colab_link": true,
      "name": "resnet-cifar10.ipynb",
      "provenance": [],
      "toc_visible": true
    },
    "gpuClass": "standard",
    "kernelspec": {
      "display_name": "Python 3.8.10 ('venv': venv)",
      "language": "python",
      "name": "python3"
    },
    "language_info": {
      "codemirror_mode": {
        "name": "ipython",
        "version": 3
      },
      "file_extension": ".py",
      "mimetype": "text/x-python",
      "name": "python",
      "nbconvert_exporter": "python",
      "pygments_lexer": "ipython3",
      "version": "3.8.10"
    },
    "vscode": {
      "interpreter": {
        "hash": "8fbd8556fb5adb829f4e25de1959d91a6a6a0bf941539d99fe3ebdadc3f8ff0f"
      }
    },
    "widgets": {
      "application/vnd.jupyter.widget-state+json": {
        "04ffc52231af41af82e4dff0e888e293": {
          "model_module": "@jupyter-widgets/base",
          "model_module_version": "2.0.0",
          "model_name": "LayoutModel",
          "state": {
            "_model_module": "@jupyter-widgets/base",
            "_model_module_version": "2.0.0",
            "_model_name": "LayoutModel",
            "_view_count": null,
            "_view_module": "@jupyter-widgets/base",
            "_view_module_version": "2.0.0",
            "_view_name": "LayoutView",
            "align_content": null,
            "align_items": null,
            "align_self": null,
            "border_bottom": null,
            "border_left": null,
            "border_right": null,
            "border_top": null,
            "bottom": null,
            "display": null,
            "flex": null,
            "flex_flow": null,
            "grid_area": null,
            "grid_auto_columns": null,
            "grid_auto_flow": null,
            "grid_auto_rows": null,
            "grid_column": null,
            "grid_gap": null,
            "grid_row": null,
            "grid_template_areas": null,
            "grid_template_columns": null,
            "grid_template_rows": null,
            "height": null,
            "justify_content": null,
            "justify_items": null,
            "left": null,
            "margin": null,
            "max_height": null,
            "max_width": null,
            "min_height": null,
            "min_width": null,
            "object_fit": null,
            "object_position": null,
            "order": null,
            "overflow": null,
            "padding": null,
            "right": null,
            "top": null,
            "visibility": null,
            "width": null
          }
        },
        "0851d842fadb469a9bc3d5daea97c775": {
          "model_module": "@jupyter-widgets/controls",
          "model_module_version": "2.0.0",
          "model_name": "HTMLStyleModel",
          "state": {
            "_model_module": "@jupyter-widgets/controls",
            "_model_module_version": "2.0.0",
            "_model_name": "HTMLStyleModel",
            "_view_count": null,
            "_view_module": "@jupyter-widgets/base",
            "_view_module_version": "2.0.0",
            "_view_name": "StyleView",
            "background": null,
            "description_width": "",
            "font_size": null,
            "text_color": null
          }
        },
        "250a81ec2ccd4d4f8725722ea31f1934": {
          "model_module": "@jupyter-widgets/base",
          "model_module_version": "2.0.0",
          "model_name": "LayoutModel",
          "state": {
            "_model_module": "@jupyter-widgets/base",
            "_model_module_version": "2.0.0",
            "_model_name": "LayoutModel",
            "_view_count": null,
            "_view_module": "@jupyter-widgets/base",
            "_view_module_version": "2.0.0",
            "_view_name": "LayoutView",
            "align_content": null,
            "align_items": null,
            "align_self": null,
            "border_bottom": null,
            "border_left": null,
            "border_right": null,
            "border_top": null,
            "bottom": null,
            "display": null,
            "flex": null,
            "flex_flow": null,
            "grid_area": null,
            "grid_auto_columns": null,
            "grid_auto_flow": null,
            "grid_auto_rows": null,
            "grid_column": null,
            "grid_gap": null,
            "grid_row": null,
            "grid_template_areas": null,
            "grid_template_columns": null,
            "grid_template_rows": null,
            "height": null,
            "justify_content": null,
            "justify_items": null,
            "left": null,
            "margin": null,
            "max_height": null,
            "max_width": null,
            "min_height": null,
            "min_width": null,
            "object_fit": null,
            "object_position": null,
            "order": null,
            "overflow": null,
            "padding": null,
            "right": null,
            "top": null,
            "visibility": null,
            "width": null
          }
        },
        "6a9ee390378848d883fa5e377533a63f": {
          "model_module": "@jupyter-widgets/controls",
          "model_module_version": "2.0.0",
          "model_name": "HTMLModel",
          "state": {
            "_dom_classes": [],
            "_model_module": "@jupyter-widgets/controls",
            "_model_module_version": "2.0.0",
            "_model_name": "HTMLModel",
            "_view_count": null,
            "_view_module": "@jupyter-widgets/controls",
            "_view_module_version": "2.0.0",
            "_view_name": "HTMLView",
            "description": "",
            "description_allow_html": false,
            "layout": "IPY_MODEL_250a81ec2ccd4d4f8725722ea31f1934",
            "placeholder": "​",
            "style": "IPY_MODEL_0851d842fadb469a9bc3d5daea97c775",
            "tabbable": null,
            "tooltip": null,
            "value": "100%"
          }
        },
        "8e381b669464433e82fca628679fa7ca": {
          "model_module": "@jupyter-widgets/base",
          "model_module_version": "2.0.0",
          "model_name": "LayoutModel",
          "state": {
            "_model_module": "@jupyter-widgets/base",
            "_model_module_version": "2.0.0",
            "_model_name": "LayoutModel",
            "_view_count": null,
            "_view_module": "@jupyter-widgets/base",
            "_view_module_version": "2.0.0",
            "_view_name": "LayoutView",
            "align_content": null,
            "align_items": null,
            "align_self": null,
            "border_bottom": null,
            "border_left": null,
            "border_right": null,
            "border_top": null,
            "bottom": null,
            "display": null,
            "flex": null,
            "flex_flow": null,
            "grid_area": null,
            "grid_auto_columns": null,
            "grid_auto_flow": null,
            "grid_auto_rows": null,
            "grid_column": null,
            "grid_gap": null,
            "grid_row": null,
            "grid_template_areas": null,
            "grid_template_columns": null,
            "grid_template_rows": null,
            "height": null,
            "justify_content": null,
            "justify_items": null,
            "left": null,
            "margin": null,
            "max_height": null,
            "max_width": null,
            "min_height": null,
            "min_width": null,
            "object_fit": null,
            "object_position": null,
            "order": null,
            "overflow": null,
            "padding": null,
            "right": null,
            "top": null,
            "visibility": null,
            "width": null
          }
        },
        "91ccb50642a24ce19e0659e6d7a10057": {
          "model_module": "@jupyter-widgets/controls",
          "model_module_version": "2.0.0",
          "model_name": "HBoxModel",
          "state": {
            "_dom_classes": [],
            "_model_module": "@jupyter-widgets/controls",
            "_model_module_version": "2.0.0",
            "_model_name": "HBoxModel",
            "_view_count": null,
            "_view_module": "@jupyter-widgets/controls",
            "_view_module_version": "2.0.0",
            "_view_name": "HBoxView",
            "box_style": "",
            "children": [
              "IPY_MODEL_6a9ee390378848d883fa5e377533a63f",
              "IPY_MODEL_ba94a08767804291b73a01dd0025c6ad",
              "IPY_MODEL_998bad496d5d4eef97b2fbbf6cdaef5e"
            ],
            "layout": "IPY_MODEL_e70d0db22f9846069444dd914cdc2a73",
            "tabbable": null,
            "tooltip": null
          }
        },
        "998bad496d5d4eef97b2fbbf6cdaef5e": {
          "model_module": "@jupyter-widgets/controls",
          "model_module_version": "2.0.0",
          "model_name": "HTMLModel",
          "state": {
            "_dom_classes": [],
            "_model_module": "@jupyter-widgets/controls",
            "_model_module_version": "2.0.0",
            "_model_name": "HTMLModel",
            "_view_count": null,
            "_view_module": "@jupyter-widgets/controls",
            "_view_module_version": "2.0.0",
            "_view_name": "HTMLView",
            "description": "",
            "description_allow_html": false,
            "layout": "IPY_MODEL_8e381b669464433e82fca628679fa7ca",
            "placeholder": "​",
            "style": "IPY_MODEL_d28aea817cff4af3858b7e7d0caea35d",
            "tabbable": null,
            "tooltip": null,
            "value": " 170498071/170498071 [00:02&lt;00:00, 49534817.06it/s]"
          }
        },
        "ba94a08767804291b73a01dd0025c6ad": {
          "model_module": "@jupyter-widgets/controls",
          "model_module_version": "2.0.0",
          "model_name": "FloatProgressModel",
          "state": {
            "_dom_classes": [],
            "_model_module": "@jupyter-widgets/controls",
            "_model_module_version": "2.0.0",
            "_model_name": "FloatProgressModel",
            "_view_count": null,
            "_view_module": "@jupyter-widgets/controls",
            "_view_module_version": "2.0.0",
            "_view_name": "ProgressView",
            "bar_style": "success",
            "description": "",
            "description_allow_html": false,
            "layout": "IPY_MODEL_04ffc52231af41af82e4dff0e888e293",
            "max": 170498071,
            "min": 0,
            "orientation": "horizontal",
            "style": "IPY_MODEL_d08abac67fa34f97bc894b84de535b12",
            "tabbable": null,
            "tooltip": null,
            "value": 170498071
          }
        },
        "d08abac67fa34f97bc894b84de535b12": {
          "model_module": "@jupyter-widgets/controls",
          "model_module_version": "2.0.0",
          "model_name": "ProgressStyleModel",
          "state": {
            "_model_module": "@jupyter-widgets/controls",
            "_model_module_version": "2.0.0",
            "_model_name": "ProgressStyleModel",
            "_view_count": null,
            "_view_module": "@jupyter-widgets/base",
            "_view_module_version": "2.0.0",
            "_view_name": "StyleView",
            "bar_color": null,
            "description_width": ""
          }
        },
        "d28aea817cff4af3858b7e7d0caea35d": {
          "model_module": "@jupyter-widgets/controls",
          "model_module_version": "2.0.0",
          "model_name": "HTMLStyleModel",
          "state": {
            "_model_module": "@jupyter-widgets/controls",
            "_model_module_version": "2.0.0",
            "_model_name": "HTMLStyleModel",
            "_view_count": null,
            "_view_module": "@jupyter-widgets/base",
            "_view_module_version": "2.0.0",
            "_view_name": "StyleView",
            "background": null,
            "description_width": "",
            "font_size": null,
            "text_color": null
          }
        },
        "e70d0db22f9846069444dd914cdc2a73": {
          "model_module": "@jupyter-widgets/base",
          "model_module_version": "2.0.0",
          "model_name": "LayoutModel",
          "state": {
            "_model_module": "@jupyter-widgets/base",
            "_model_module_version": "2.0.0",
            "_model_name": "LayoutModel",
            "_view_count": null,
            "_view_module": "@jupyter-widgets/base",
            "_view_module_version": "2.0.0",
            "_view_name": "LayoutView",
            "align_content": null,
            "align_items": null,
            "align_self": null,
            "border_bottom": null,
            "border_left": null,
            "border_right": null,
            "border_top": null,
            "bottom": null,
            "display": null,
            "flex": null,
            "flex_flow": null,
            "grid_area": null,
            "grid_auto_columns": null,
            "grid_auto_flow": null,
            "grid_auto_rows": null,
            "grid_column": null,
            "grid_gap": null,
            "grid_row": null,
            "grid_template_areas": null,
            "grid_template_columns": null,
            "grid_template_rows": null,
            "height": null,
            "justify_content": null,
            "justify_items": null,
            "left": null,
            "margin": null,
            "max_height": null,
            "max_width": null,
            "min_height": null,
            "min_width": null,
            "object_fit": null,
            "object_position": null,
            "order": null,
            "overflow": null,
            "padding": null,
            "right": null,
            "top": null,
            "visibility": null,
            "width": null
          }
        }
      }
    }
  },
  "nbformat": 4,
  "nbformat_minor": 0
}
